{
 "cells": [
  {
   "cell_type": "code",
   "execution_count": 73,
   "id": "cb0b479e-5df4-4009-bf43-4edb887e662a",
   "metadata": {
    "tags": []
   },
   "outputs": [],
   "source": [
    "class Animals:\n",
    "    def __init__(self, n, year_of_b, gen):\n",
    "        self.name = n\n",
    "        self.year_of_birth = year_of_b\n",
    "        self.genus = gen\n",
    "    def age(self, year):\n",
    "        x = str(year - self.year_of_birth)\n",
    "        return (self.name+\" was \"+x+\" years old in \"+str(year))\n",
    "    def info(self):\n",
    "        return (self.name+\" is a \"+self.genus)\n",
    "ani1 = Animals(\"Bob\", 2005, \"dog\")\n",
    "ani2 = Animals(\"Betty\", 2007, \"cat\")\n",
    "ani3 = Animals(\"Mike\", 2003, \"parrot\")\n",
    "my_file = \"NnG.txt\"\n",
    "file = open(my_file, 'w')\n",
    "file.write(\"Names: \"+ani1.name+\", \"+ani2.name+\", \"+ani3.name)\n",
    "file.write(\"\\nGenus: \"+ani1.genus+\", \"+ani2.genus+\", \"+ani3.genus)\n",
    "file.close()\n",
    "def old():\n",
    "    if ani1.year_of_birth < ani2.year_of_birth:\n",
    "        if ani1.year_of_birth < ani3.year_of_birth:\n",
    "            return (ani1.name+\", \"+ani1.genus+\", \"+str(2024 - ani1.year_of_birth)+\" years old\")\n",
    "        else:\n",
    "            return (ani3.name+\", \"+ani3.genus+\", \"+str(2024 - ani3.year_of_birth)+\" years old\")\n",
    "    elif ani2.year_of_birth < ani3.year_of_birth:\n",
    "        return (ani2.name+\", \"+ani2.genus+\", \"+str(2024 - ani2.year_of_birth)+\" years old\") "
   ]
  },
  {
   "cell_type": "code",
   "execution_count": 74,
   "id": "63435af8-6313-4099-bb5d-4956ee9d3c1f",
   "metadata": {
    "tags": []
   },
   "outputs": [
    {
     "name": "stdout",
     "output_type": "stream",
     "text": [
      "Mike was 17 years old in 2020\n",
      "Betty is a cat\n"
     ]
    }
   ],
   "source": [
    "print(ani3.age(2020))\n",
    "print(ani2.info())"
   ]
  },
  {
   "cell_type": "code",
   "execution_count": 75,
   "id": "e593648b-b616-4f1e-a720-13231ac1753d",
   "metadata": {
    "tags": []
   },
   "outputs": [
    {
     "name": "stdout",
     "output_type": "stream",
     "text": [
      "Mike, parrot, 21 years old\n"
     ]
    }
   ],
   "source": [
    "print(old())"
   ]
  },
  {
   "cell_type": "code",
   "execution_count": null,
   "id": "bf32b5f4-d777-42f0-84da-05fab5ca34e3",
   "metadata": {},
   "outputs": [],
   "source": []
  }
 ],
 "metadata": {
  "kernelspec": {
   "display_name": "Python 3 (ipykernel)",
   "language": "python",
   "name": "python3"
  },
  "language_info": {
   "codemirror_mode": {
    "name": "ipython",
    "version": 3
   },
   "file_extension": ".py",
   "mimetype": "text/x-python",
   "name": "python",
   "nbconvert_exporter": "python",
   "pygments_lexer": "ipython3",
   "version": "3.10.9"
  }
 },
 "nbformat": 4,
 "nbformat_minor": 5
}
